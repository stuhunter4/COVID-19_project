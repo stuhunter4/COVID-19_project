{
 "cells": [
  {
   "cell_type": "code",
   "execution_count": 1,
   "metadata": {},
   "outputs": [],
   "source": [
    "#dependencies\n",
    "import pandas as pd\n",
    "import matplotlib.pyplot as plt"
   ]
  },
  {
   "cell_type": "code",
   "execution_count": 2,
   "metadata": {},
   "outputs": [],
   "source": [
    "#Read in census csv you created\n",
    "LASF_census = pd.read_csv(\"Resources/NEW_LASF_Census2018.csv\")"
   ]
  },
  {
   "cell_type": "code",
   "execution_count": 3,
   "metadata": {},
   "outputs": [],
   "source": [
    "#metro populations\n",
    "LA_pop = LASF_census.iloc[0,1] + LASF_census.iloc[1,1]\n",
    "SF_pop = LASF_census.iloc[2,1] + LASF_census.iloc[3,1] + LASF_census.iloc[4,1] + LASF_census.iloc[5,1] + LASF_census.iloc[6,1]\n",
    "\n",
    "#metro area (square mi.)\n",
    "LA_area = LASF_census.iloc[0,7] + LASF_census.iloc[1,7]\n",
    "SF_area = LASF_census.iloc[2,7] + LASF_census.iloc[3,7] + LASF_census.iloc[4,7] + LASF_census.iloc[5,7] + LASF_census.iloc[6,7]\n",
    "\n",
    "#poverty count\n",
    "LA_pov = LASF_census.iloc[0,5] + LASF_census.iloc[1,5]\n",
    "SF_pov = LASF_census.iloc[2,5] + LASF_census.iloc[3,5] + LASF_census.iloc[4,5] + LASF_census.iloc[5,5] + LASF_census.iloc[6,5]\n",
    "\n",
    "#population density list\n",
    "LA_popd = LA_pop / LA_area\n",
    "SF_popd = SF_pop / SF_area\n",
    "popd_list = [LA_popd, SF_popd]\n",
    "\n",
    "#median age, average\n",
    "LA_age = (LASF_census.iloc[0,3] + LASF_census.iloc[1,3]) / 2\n",
    "SF_age = (LASF_census.iloc[2,3] + LASF_census.iloc[3,3] + LASF_census.iloc[4,3] + LASF_census.iloc[5,3] + LASF_census.iloc[6,3]) / 5\n",
    "age_list = [LA_age, SF_age]\n",
    "\n",
    "#per capita income, average\n",
    "LA_inc = (LASF_census.iloc[0,4] + LASF_census.iloc[1,4]) / 2\n",
    "SF_inc = (LASF_census.iloc[2,4] + LASF_census.iloc[3,4] + LASF_census.iloc[4,4] + LASF_census.iloc[5,4] + LASF_census.iloc[6,4]) / 5\n",
    "inc_list = [LA_inc, SF_inc]\n",
    "\n",
    "#poverty rate list\n",
    "LA_povr = (LA_pov / LA_pop) * 100\n",
    "SF_povr = (SF_pov / SF_pop) * 100\n",
    "povr_list = [LA_povr, SF_povr]\n",
    "\n",
    "name_list = [\"Los Angeles Metro Stat Area\", \"San Francisco Metro Stat Area\"]\n",
    "NEW_LASF_census = pd.DataFrame({\"Name\": name_list, \"Population Density\": popd_list, \"Median Age\": age_list, \"Per Capita Income\": inc_list, \"Poverty Rate\": povr_list})"
   ]
  },
  {
   "cell_type": "code",
   "execution_count": 4,
   "metadata": {},
   "outputs": [],
   "source": [
    "#store columns into different series variables for plotting\n",
    "counties = NEW_LASF_census[\"Name\"]\n",
    "pop_density = NEW_LASF_census[\"Population Density\"]\n",
    "med_age = NEW_LASF_census[\"Median Age\"]\n",
    "income = NEW_LASF_census[\"Per Capita Income\"]\n",
    "pov_rate = NEW_LASF_census[\"Poverty Rate\"]"
   ]
  },
  {
   "cell_type": "code",
   "execution_count": 5,
   "metadata": {},
   "outputs": [
    {
     "data": {
      "image/png": "[encoded data removed]",
      "text/plain": [
       "<Figure size 432x288 with 4 Axes>"
      ]
     },
     "metadata": {
      "needs_background": "light"
     },
     "output_type": "display_data"
    },
    {
     "data": {
      "text/html": [
       "<div>\n",
       "<style scoped>\n",
       "    .dataframe tbody tr th:only-of-type {\n",
       "        vertical-align: middle;\n",
       "    }\n",
       "\n",
       "    .dataframe tbody tr th {\n",
       "        vertical-align: top;\n",
       "    }\n",
       "\n",
       "    .dataframe thead th {\n",
       "        text-align: right;\n",
       "    }\n",
       "</style>\n",
       "<table border=\"1\" class=\"dataframe\">\n",
       "  <thead>\n",
       "    <tr style=\"text-align: right;\">\n",
       "      <th></th>\n",
       "      <th>Name</th>\n",
       "      <th>Population Density</th>\n",
       "      <th>Median Age</th>\n",
       "      <th>Per Capita Income</th>\n",
       "      <th>Poverty Rate</th>\n",
       "    </tr>\n",
       "  </thead>\n",
       "  <tbody>\n",
       "    <tr>\n",
       "      <th>0</th>\n",
       "      <td>Los Angeles Metro Stat Area</td>\n",
       "      <td>8160.787193</td>\n",
       "      <td>37.00</td>\n",
       "      <td>36029.5</td>\n",
       "      <td>14.699326</td>\n",
       "    </tr>\n",
       "    <tr>\n",
       "      <th>1</th>\n",
       "      <td>San Francisco Metro Stat Area</td>\n",
       "      <td>623.083090</td>\n",
       "      <td>40.22</td>\n",
       "      <td>56122.8</td>\n",
       "      <td>9.396816</td>\n",
       "    </tr>\n",
       "  </tbody>\n",
       "</table>\n",
       "</div>"
      ],
      "text/plain": [
       "                            Name  Population Density  Median Age  \\\n",
       "0    Los Angeles Metro Stat Area         8160.787193       37.00   \n",
       "1  San Francisco Metro Stat Area          623.083090       40.22   \n",
       "\n",
       "   Per Capita Income  Poverty Rate  \n",
       "0            36029.5     14.699326  \n",
       "1            56122.8      9.396816  "
      ]
     },
     "execution_count": 5,
     "metadata": {},
     "output_type": "execute_result"
    }
   ],
   "source": [
    "#plot four different variables to compare between the two counties\n",
    "fig, axs = plt.subplots(2, 2)\n",
    "\n",
    "axs[0, 0].bar(counties, pop_density, align=\"center\", color=\"lightsalmon\", tick_label=[\"LA\",\"SF\"])\n",
    "axs[0, 0].set_title(\"Population Density\")\n",
    "axs[0, 0].text(0, NEW_LASF_census.iloc[0, 1], f\"{round(NEW_LASF_census.iloc[0, 1], 2)}\", ha=\"center\", va=\"top\")\n",
    "axs[0, 0].text(1, NEW_LASF_census.iloc[1, 1], f\"{round(NEW_LASF_census.iloc[1, 1], 2)}\", ha=\"center\", va=\"bottom\")\n",
    "\n",
    "axs[0, 1].bar(counties, med_age, align=\"center\", color=\"palegoldenrod\", tick_label=[\"LA\",\"SF\"])\n",
    "axs[0, 1].set_title(\"Median Age\")\n",
    "axs[0, 1].text(0, NEW_LASF_census.iloc[0, 2], f\"{NEW_LASF_census.iloc[0, 2]}\", ha=\"center\", va=\"top\")\n",
    "axs[0, 1].text(1, NEW_LASF_census.iloc[1, 2], f\"{NEW_LASF_census.iloc[1, 2]}\", ha=\"center\", va=\"top\")\n",
    "\n",
    "axs[1, 0].bar(counties, income, align=\"center\", color=\"paleturquoise\", tick_label=[\"LA\",\"SF\"])\n",
    "axs[1, 0].set_title(\"Per Capita Income\")\n",
    "axs[1, 0].text(0, NEW_LASF_census.iloc[0, 3], f\"${NEW_LASF_census.iloc[0, 3]}0\", ha=\"center\", va=\"top\")\n",
    "axs[1, 0].text(1, NEW_LASF_census.iloc[1, 3], f\"${NEW_LASF_census.iloc[1, 3]}0\", ha=\"center\", va=\"top\")\n",
    "\n",
    "axs[1, 1].bar(counties, pov_rate, align=\"center\", color=\"thistle\", tick_label=[\"LA\",\"SF\"])\n",
    "axs[1, 1].set_title(\"Poverty Rate\")\n",
    "axs[1, 1].text(0, NEW_LASF_census.iloc[0, 4], f\"{round(NEW_LASF_census.iloc[0, 4], 2)}%\", ha=\"center\", va=\"top\")\n",
    "axs[1, 1].text(1, NEW_LASF_census.iloc[1, 4], f\"{round(NEW_LASF_census.iloc[1, 4], 2)}%\", ha=\"center\", va=\"top\")\n",
    "\n",
    "fig.tight_layout()\n",
    "plt.savefig(\"Output_data/NEW_Census_BarGraphs.png\", dpi=300)\n",
    "plt.show()\n",
    "\n",
    "NEW_LASF_census"
   ]
  },
  {
   "cell_type": "code",
   "execution_count": null,
   "metadata": {},
   "outputs": [],
   "source": []
  }
 ],
 "metadata": {
  "kernelspec": {
   "display_name": "Python 3",
   "language": "python",
   "name": "python3"
  },
  "language_info": {
   "codemirror_mode": {
    "name": "ipython",
    "version": 3
   },
   "file_extension": ".py",
   "mimetype": "text/x-python",
   "name": "python",
   "nbconvert_exporter": "python",
   "pygments_lexer": "ipython3",
   "version": "3.8.3"
  }
 },
 "nbformat": 4,
 "nbformat_minor": 4
}
