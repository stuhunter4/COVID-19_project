{
 "cells": [
  {
   "cell_type": "code",
   "execution_count": 1,
   "metadata": {},
   "outputs": [],
   "source": [
    "#dependencies\n",
    "import requests\n",
    "import json\n",
    "import pandas as pd\n",
    "import matplotlib.pyplot as plt\n",
    "\n",
    "from census import Census\n",
    "from api_keys import census_key"
   ]
  },
  {
   "cell_type": "code",
   "execution_count": null,
   "metadata": {},
   "outputs": [],
   "source": [
    "url = \"https://api.census.gov/data/2018/acs/acs5\"\n",
    "\n",
    "#store variables for total households, average household size, state, and counties\n",
    "households = \"B11016_001E\"\n",
    "average_size = \"B25010_001E\"\n",
    "\n",
    "Cali = \"06\"\n",
    "LA = \"037\"\n",
    "SF = \"075\"\n",
    "\n",
    "LA_query = f\"{url}?get={households}&for=county:{SF}&in=state:{Cali}&key={census_key}\"\n",
    "LA_house_data = requests.get(LA_query).json()\n",
    "LA_house_data[1][0]"
   ]
  },
  {
   "cell_type": "code",
   "execution_count": 2,
   "metadata": {},
   "outputs": [],
   "source": [
    "c = Census(census_key, year=2018)\n",
    "\n",
    "LA_house_data = c.acs5.get((\"NAME\", \"B11016_001E\", \"B25010_001E\"), {\"for\": \"county:037\", \"in\": \"state:06\"})\n",
    "SF_house_data = c.acs5.get((\"NAME\", \"B11016_001E\", \"B25010_001E\"), {\"for\": \"county:075\", \"in\": \"state:06\"})\n",
    "\n",
    "LA_house_df = pd.DataFrame(LA_house_data)\n",
    "LA_house_df = LA_house_df.rename(columns={\"B11016_001E\": \"Total Households\", \"B25010_001E\": \"Average Household Size\",\n",
    "                                         \"NAME\": \"Name\"})\n",
    "SF_house_df = pd.DataFrame(SF_house_data)\n",
    "SF_house_df = SF_house_df.rename(columns={\"B11016_001E\": \"Total Households\", \"B25010_001E\": \"Average Household Size\",\n",
    "                                         \"NAME\": \"Name\"})\n",
    "\n",
    "LASF_households = LA_house_df.append(SF_house_df)"
   ]
  },
  {
   "cell_type": "code",
   "execution_count": 3,
   "metadata": {},
   "outputs": [
    {
     "data": {
      "text/html": [
       "<div>\n",
       "<style scoped>\n",
       "    .dataframe tbody tr th:only-of-type {\n",
       "        vertical-align: middle;\n",
       "    }\n",
       "\n",
       "    .dataframe tbody tr th {\n",
       "        vertical-align: top;\n",
       "    }\n",
       "\n",
       "    .dataframe thead th {\n",
       "        text-align: right;\n",
       "    }\n",
       "</style>\n",
       "<table border=\"1\" class=\"dataframe\">\n",
       "  <thead>\n",
       "    <tr style=\"text-align: right;\">\n",
       "      <th></th>\n",
       "      <th>Name</th>\n",
       "      <th>Total Households</th>\n",
       "      <th>Average Household Size</th>\n",
       "      <th>state</th>\n",
       "      <th>county</th>\n",
       "    </tr>\n",
       "  </thead>\n",
       "  <tbody>\n",
       "    <tr>\n",
       "      <th>0</th>\n",
       "      <td>Los Angeles County, California</td>\n",
       "      <td>3306109.0</td>\n",
       "      <td>3.00</td>\n",
       "      <td>06</td>\n",
       "      <td>037</td>\n",
       "    </tr>\n",
       "    <tr>\n",
       "      <th>0</th>\n",
       "      <td>San Francisco County, California</td>\n",
       "      <td>359673.0</td>\n",
       "      <td>2.36</td>\n",
       "      <td>06</td>\n",
       "      <td>075</td>\n",
       "    </tr>\n",
       "  </tbody>\n",
       "</table>\n",
       "</div>"
      ],
      "text/plain": [
       "                               Name  Total Households  Average Household Size  \\\n",
       "0    Los Angeles County, California         3306109.0                    3.00   \n",
       "0  San Francisco County, California          359673.0                    2.36   \n",
       "\n",
       "  state county  \n",
       "0    06    037  \n",
       "0    06    075  "
      ]
     },
     "execution_count": 3,
     "metadata": {},
     "output_type": "execute_result"
    }
   ],
   "source": [
    "LASF_households"
   ]
  },
  {
   "cell_type": "code",
   "execution_count": 4,
   "metadata": {},
   "outputs": [
    {
     "data": {
      "text/html": [
       "<div>\n",
       "<style scoped>\n",
       "    .dataframe tbody tr th:only-of-type {\n",
       "        vertical-align: middle;\n",
       "    }\n",
       "\n",
       "    .dataframe tbody tr th {\n",
       "        vertical-align: top;\n",
       "    }\n",
       "\n",
       "    .dataframe thead th {\n",
       "        text-align: right;\n",
       "    }\n",
       "</style>\n",
       "<table border=\"1\" class=\"dataframe\">\n",
       "  <thead>\n",
       "    <tr style=\"text-align: right;\">\n",
       "      <th></th>\n",
       "      <th>Name</th>\n",
       "      <th>Total Households</th>\n",
       "      <th>Average Household Size</th>\n",
       "      <th>state</th>\n",
       "      <th>county</th>\n",
       "      <th>Total Area (square mi.)</th>\n",
       "      <th>Household Density</th>\n",
       "    </tr>\n",
       "  </thead>\n",
       "  <tbody>\n",
       "    <tr>\n",
       "      <th>0</th>\n",
       "      <td>Los Angeles County, California</td>\n",
       "      <td>3306109.0</td>\n",
       "      <td>3.00</td>\n",
       "      <td>06</td>\n",
       "      <td>037</td>\n",
       "      <td>4751.122</td>\n",
       "      <td>695.858578</td>\n",
       "    </tr>\n",
       "    <tr>\n",
       "      <th>1</th>\n",
       "      <td>San Francisco County, California</td>\n",
       "      <td>359673.0</td>\n",
       "      <td>2.36</td>\n",
       "      <td>06</td>\n",
       "      <td>075</td>\n",
       "      <td>231.890</td>\n",
       "      <td>1551.050067</td>\n",
       "    </tr>\n",
       "  </tbody>\n",
       "</table>\n",
       "</div>"
      ],
      "text/plain": [
       "                               Name  Total Households  Average Household Size  \\\n",
       "0    Los Angeles County, California         3306109.0                    3.00   \n",
       "1  San Francisco County, California          359673.0                    2.36   \n",
       "\n",
       "  state county  Total Area (square mi.)  Household Density  \n",
       "0    06    037                 4751.122         695.858578  \n",
       "1    06    075                  231.890        1551.050067  "
      ]
     },
     "execution_count": 4,
     "metadata": {},
     "output_type": "execute_result"
    }
   ],
   "source": [
    "#read in csv file \"Count_size\" for total area numbers\n",
    "county_size = pd.read_csv(\"Resources/County_size.csv\")\n",
    "#place elements from Total Area column into new series\n",
    "total_area = county_size[\"Total Area\"]\n",
    "\n",
    "#reset index on counties_census_df so the index and series match\n",
    "LASF_households = LASF_households.reset_index(drop=True)\n",
    "\n",
    "#add new series to a new column in orginal df\n",
    "LASF_households[\"Total Area (square mi.)\"] = total_area\n",
    "\n",
    "#calculate population density and place in new column\n",
    "LASF_households[\"Household Density\"] = LASF_households[\"Total Households\"] / LASF_households[\"Total Area (square mi.)\"]\n",
    "LASF_households"
   ]
  },
  {
   "cell_type": "code",
   "execution_count": null,
   "metadata": {},
   "outputs": [],
   "source": [
    "LASF_households.dtypes"
   ]
  },
  {
   "cell_type": "code",
   "execution_count": 7,
   "metadata": {},
   "outputs": [
    {
     "data": {
      "text/html": [
       "<style  type=\"text/css\" >\n",
       "</style><table id=\"T_e12f2d90_07b6_11eb_a906_1831bf6cc516\" ><thead>    <tr>        <th class=\"blank level0\" ></th>        <th class=\"col_heading level0 col0\" >Name</th>        <th class=\"col_heading level0 col1\" >Total Households</th>        <th class=\"col_heading level0 col2\" >Average Household Size</th>        <th class=\"col_heading level0 col3\" >state</th>        <th class=\"col_heading level0 col4\" >county</th>        <th class=\"col_heading level0 col5\" >Total Area (square mi.)</th>        <th class=\"col_heading level0 col6\" >Household Density</th>    </tr></thead><tbody>\n",
       "                <tr>\n",
       "                        <th id=\"T_e12f2d90_07b6_11eb_a906_1831bf6cc516level0_row0\" class=\"row_heading level0 row0\" >0</th>\n",
       "                        <td id=\"T_e12f2d90_07b6_11eb_a906_1831bf6cc516row0_col0\" class=\"data row0 col0\" >Los Angeles County, California</td>\n",
       "                        <td id=\"T_e12f2d90_07b6_11eb_a906_1831bf6cc516row0_col1\" class=\"data row0 col1\" >3,306,109.0</td>\n",
       "                        <td id=\"T_e12f2d90_07b6_11eb_a906_1831bf6cc516row0_col2\" class=\"data row0 col2\" >3.000000</td>\n",
       "                        <td id=\"T_e12f2d90_07b6_11eb_a906_1831bf6cc516row0_col3\" class=\"data row0 col3\" >06</td>\n",
       "                        <td id=\"T_e12f2d90_07b6_11eb_a906_1831bf6cc516row0_col4\" class=\"data row0 col4\" >037</td>\n",
       "                        <td id=\"T_e12f2d90_07b6_11eb_a906_1831bf6cc516row0_col5\" class=\"data row0 col5\" >4751.122000</td>\n",
       "                        <td id=\"T_e12f2d90_07b6_11eb_a906_1831bf6cc516row0_col6\" class=\"data row0 col6\" >695.858578</td>\n",
       "            </tr>\n",
       "            <tr>\n",
       "                        <th id=\"T_e12f2d90_07b6_11eb_a906_1831bf6cc516level0_row1\" class=\"row_heading level0 row1\" >1</th>\n",
       "                        <td id=\"T_e12f2d90_07b6_11eb_a906_1831bf6cc516row1_col0\" class=\"data row1 col0\" >San Francisco County, California</td>\n",
       "                        <td id=\"T_e12f2d90_07b6_11eb_a906_1831bf6cc516row1_col1\" class=\"data row1 col1\" >359,673.0</td>\n",
       "                        <td id=\"T_e12f2d90_07b6_11eb_a906_1831bf6cc516row1_col2\" class=\"data row1 col2\" >2.360000</td>\n",
       "                        <td id=\"T_e12f2d90_07b6_11eb_a906_1831bf6cc516row1_col3\" class=\"data row1 col3\" >06</td>\n",
       "                        <td id=\"T_e12f2d90_07b6_11eb_a906_1831bf6cc516row1_col4\" class=\"data row1 col4\" >075</td>\n",
       "                        <td id=\"T_e12f2d90_07b6_11eb_a906_1831bf6cc516row1_col5\" class=\"data row1 col5\" >231.890000</td>\n",
       "                        <td id=\"T_e12f2d90_07b6_11eb_a906_1831bf6cc516row1_col6\" class=\"data row1 col6\" >1551.050067</td>\n",
       "            </tr>\n",
       "    </tbody></table>"
      ],
      "text/plain": [
       "<pandas.io.formats.style.Styler at 0x1cf2346cca0>"
      ]
     },
     "execution_count": 7,
     "metadata": {},
     "output_type": "execute_result"
    }
   ],
   "source": [
    "LASF_households.style.format({\"Total Households\": \"{:,}\"})"
   ]
  },
  {
   "cell_type": "code",
   "execution_count": 8,
   "metadata": {},
   "outputs": [
    {
     "data": {
      "image/png": "[encoded data removed]",
      "text/plain": [
       "<Figure size 432x288 with 4 Axes>"
      ]
     },
     "metadata": {
      "needs_background": "light"
     },
     "output_type": "display_data"
    }
   ],
   "source": [
    "county = LASF_households[\"Name\"]\n",
    "\n",
    "household = LASF_households[\"Total Households\"]\n",
    "avg_household = LASF_households[\"Average Household Size\"]\n",
    "area = LASF_households[\"Total Area (square mi.)\"]\n",
    "density = LASF_households[\"Household Density\"]\n",
    "\n",
    "fig, axs = plt.subplots(2, 2)\n",
    "\n",
    "axs[0, 0].bar(county, household, align=\"center\", color=\"sandybrown\", tick_label=[\"LA\",\"SF\"])\n",
    "axs[0, 0].set_title(\"Total Households\")\n",
    "axs[0, 0].text(0, LASF_households.iloc[0, 1], f\"{LASF_households.iloc[0, 1]}\", ha=\"center\", va=\"top\")\n",
    "axs[0, 0].text(1, LASF_households.iloc[1, 1], f\"{LASF_households.iloc[1, 1]}\", ha=\"center\", va=\"bottom\")\n",
    "\n",
    "axs[0, 1].bar(county, avg_household, align=\"center\", color=\"darkkhaki\", tick_label=[\"LA\",\"SF\"])\n",
    "axs[0, 1].set_title(\"Average Household Size\")\n",
    "axs[0, 1].text(0, LASF_households.iloc[0, 2], f\"{LASF_households.iloc[0, 2]}\", ha=\"center\", va=\"top\")\n",
    "axs[0, 1].text(1, LASF_households.iloc[1, 2], f\"{LASF_households.iloc[1, 2]}\", ha=\"center\", va=\"top\")\n",
    "\n",
    "axs[1, 0].bar(county, area, align=\"center\", color=\"lightblue\", tick_label=[\"LA\",\"SF\"])\n",
    "axs[1, 0].set_title(\"Total Area (square mi.)\")\n",
    "axs[1, 0].text(0, LASF_households.iloc[0, 5], f\"{round(LASF_households.iloc[0, 5], 2)}\", ha=\"center\", va=\"top\")\n",
    "axs[1, 0].text(1, LASF_households.iloc[1, 5], f\"{round(LASF_households.iloc[1, 5], 2)}\", ha=\"center\", va=\"bottom\")\n",
    "\n",
    "axs[1, 1].bar(county, density, align=\"center\", color=\"pink\", tick_label=[\"LA\",\"SF\"])\n",
    "axs[1, 1].set_title(\"Household Density\")\n",
    "axs[1, 1].text(0, LASF_households.iloc[0, 6], f\"{round(LASF_households.iloc[0, 6], 2)}\", ha=\"center\", va=\"bottom\")\n",
    "axs[1, 1].text(1, LASF_households.iloc[1, 6], f\"{round(LASF_households.iloc[1, 6], 2)}\", ha=\"center\", va=\"top\")\n",
    "\n",
    "fig.tight_layout()\n",
    "plt.savefig(\"Output_data/Households_BarGraphs.png\", dpi=300)\n",
    "plt.show()"
   ]
  },
  {
   "cell_type": "code",
   "execution_count": 11,
   "metadata": {},
   "outputs": [
    {
     "ename": "AttributeError",
     "evalue": "'numpy.float64' object has no attribute 'format'",
     "output_type": "error",
     "traceback": [
      "\u001b[1;31m---------------------------------------------------------------------------\u001b[0m",
      "\u001b[1;31mAttributeError\u001b[0m                            Traceback (most recent call last)",
      "\u001b[1;32m<ipython-input-11-28078144a5d2>\u001b[0m in \u001b[0;36m<module>\u001b[1;34m\u001b[0m\n\u001b[1;32m----> 1\u001b[1;33m \u001b[0mLASF_households\u001b[0m\u001b[1;33m.\u001b[0m\u001b[0miloc\u001b[0m\u001b[1;33m[\u001b[0m\u001b[1;36m1\u001b[0m\u001b[1;33m,\u001b[0m \u001b[1;36m1\u001b[0m\u001b[1;33m]\u001b[0m\u001b[1;33m.\u001b[0m\u001b[0mformat\u001b[0m\u001b[1;33m(\u001b[0m\u001b[1;34m\"{:,}\"\u001b[0m\u001b[1;33m)\u001b[0m\u001b[1;33m\u001b[0m\u001b[1;33m\u001b[0m\u001b[0m\n\u001b[0m",
      "\u001b[1;31mAttributeError\u001b[0m: 'numpy.float64' object has no attribute 'format'"
     ]
    }
   ],
   "source": [
    "LASF_households.iloc[1, 1].format(\"{:,}\")"
   ]
  },
  {
   "cell_type": "code",
   "execution_count": null,
   "metadata": {},
   "outputs": [],
   "source": []
  }
 ],
 "metadata": {
  "kernelspec": {
   "display_name": "Python 3",
   "language": "python",
   "name": "python3"
  },
  "language_info": {
   "codemirror_mode": {
    "name": "ipython",
    "version": 3
   },
   "file_extension": ".py",
   "mimetype": "text/x-python",
   "name": "python",
   "nbconvert_exporter": "python",
   "pygments_lexer": "ipython3",
   "version": "3.8.3"
  }
 },
 "nbformat": 4,
 "nbformat_minor": 4
}
