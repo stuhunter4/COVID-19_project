{
 "cells": [
  {
   "cell_type": "code",
   "execution_count": 1,
   "metadata": {},
   "outputs": [],
   "source": [
    "#dependencies\n",
    "import pandas as pd\n",
    "import matplotlib.pyplot as plt"
   ]
  },
  {
   "cell_type": "code",
   "execution_count": 2,
   "metadata": {},
   "outputs": [],
   "source": [
    "#Read in census csv you created\n",
    "LASF_census = pd.read_csv(\"Resources/LASF_Census2018.csv\")"
   ]
  },
  {
   "cell_type": "code",
   "execution_count": 3,
   "metadata": {},
   "outputs": [
    {
     "data": {
      "image/png": "[encoded data removed]",
      "text/plain": [
       "<Figure size 432x288 with 4 Axes>"
      ]
     },
     "metadata": {
      "needs_background": "light"
     },
     "output_type": "display_data"
    },
    {
     "data": {
      "text/html": [
       "<div>\n",
       "<style scoped>\n",
       "    .dataframe tbody tr th:only-of-type {\n",
       "        vertical-align: middle;\n",
       "    }\n",
       "\n",
       "    .dataframe tbody tr th {\n",
       "        vertical-align: top;\n",
       "    }\n",
       "\n",
       "    .dataframe thead th {\n",
       "        text-align: right;\n",
       "    }\n",
       "</style>\n",
       "<table border=\"1\" class=\"dataframe\">\n",
       "  <thead>\n",
       "    <tr style=\"text-align: right;\">\n",
       "      <th></th>\n",
       "      <th>Name</th>\n",
       "      <th>Population Density</th>\n",
       "      <th>Median Age</th>\n",
       "      <th>Per Capita Income</th>\n",
       "      <th>Poverty Rate</th>\n",
       "    </tr>\n",
       "  </thead>\n",
       "  <tbody>\n",
       "    <tr>\n",
       "      <th>0</th>\n",
       "      <td>Los Angeles County, California</td>\n",
       "      <td>2125.403641</td>\n",
       "      <td>36.2</td>\n",
       "      <td>32469.0</td>\n",
       "      <td>15.745175</td>\n",
       "    </tr>\n",
       "    <tr>\n",
       "      <th>1</th>\n",
       "      <td>San Francisco County, California</td>\n",
       "      <td>3751.968606</td>\n",
       "      <td>38.2</td>\n",
       "      <td>64157.0</td>\n",
       "      <td>10.686701</td>\n",
       "    </tr>\n",
       "  </tbody>\n",
       "</table>\n",
       "</div>"
      ],
      "text/plain": [
       "                               Name  Population Density  Median Age  \\\n",
       "0    Los Angeles County, California         2125.403641        36.2   \n",
       "1  San Francisco County, California         3751.968606        38.2   \n",
       "\n",
       "   Per Capita Income  Poverty Rate  \n",
       "0            32469.0     15.745175  \n",
       "1            64157.0     10.686701  "
      ]
     },
     "execution_count": 3,
     "metadata": {},
     "output_type": "execute_result"
    }
   ],
   "source": [
    "#store columns into different series variables for plotting\n",
    "counties = LASF_census[\"Name\"]\n",
    "pop_density = LASF_census[\"Population Density\"]\n",
    "med_age = LASF_census[\"Median Age\"]\n",
    "income = LASF_census[\"Per Capita Income\"]\n",
    "pov_rate = LASF_census[\"Poverty Rate\"]\n",
    "\n",
    "#plot four different variables to compare between the two counties\n",
    "fig, axs = plt.subplots(2, 2)\n",
    "\n",
    "axs[0, 0].bar(counties, pop_density, align=\"center\", color=\"lightsalmon\", tick_label=[\"LA\",\"SF\"])\n",
    "axs[0, 0].set_title(\"Population Density\")\n",
    "axs[0, 0].text(0, LASF_census.iloc[0, 2], f\"{round(LASF_census.iloc[0, 2], 2)}\", ha=\"center\", va=\"top\")\n",
    "axs[0, 0].text(1, LASF_census.iloc[1, 2], f\"{round(LASF_census.iloc[1, 2], 2)}\", ha=\"center\", va=\"top\")\n",
    "\n",
    "axs[0, 1].bar(counties, med_age, align=\"center\", color=\"palegoldenrod\", tick_label=[\"LA\",\"SF\"])\n",
    "axs[0, 1].set_title(\"Median Age\")\n",
    "axs[0, 1].text(0, LASF_census.iloc[0, 3], f\"{LASF_census.iloc[0, 3]}\", ha=\"center\", va=\"top\")\n",
    "axs[0, 1].text(1, LASF_census.iloc[1, 3], f\"{LASF_census.iloc[1, 3]}\", ha=\"center\", va=\"top\")\n",
    "\n",
    "axs[1, 0].bar(counties, income, align=\"center\", color=\"paleturquoise\", tick_label=[\"LA\",\"SF\"])\n",
    "axs[1, 0].set_title(\"Per Capita Income\")\n",
    "axs[1, 0].text(0, LASF_census.iloc[0, 4], f\"${LASF_census.iloc[0, 4]}0\", ha=\"center\", va=\"top\")\n",
    "axs[1, 0].text(1, LASF_census.iloc[1, 4], f\"${LASF_census.iloc[1, 4]}0\", ha=\"center\", va=\"top\")\n",
    "\n",
    "axs[1, 1].bar(counties, pov_rate, align=\"center\", color=\"thistle\", tick_label=[\"LA\",\"SF\"])\n",
    "axs[1, 1].set_title(\"Poverty Rate\")\n",
    "axs[1, 1].text(0, LASF_census.iloc[0, 6], f\"{round(LASF_census.iloc[0, 6], 2)}%\", ha=\"center\", va=\"top\")\n",
    "axs[1, 1].text(1, LASF_census.iloc[1, 6], f\"{round(LASF_census.iloc[1, 6], 2)}%\", ha=\"center\", va=\"top\")\n",
    "\n",
    "fig.tight_layout()\n",
    "plt.savefig(\"Output_data/Census_BarGraphs.png\", dpi=300)\n",
    "plt.show()\n",
    "\n",
    "#display the census data with only the columns we want\n",
    "New_data = LASF_census[[\"Name\", \"Population Density\", \"Median Age\", \"Per Capita Income\", \"Poverty Rate\"]]\n",
    "New_data"
   ]
  },
  {
   "cell_type": "code",
   "execution_count": null,
   "metadata": {},
   "outputs": [],
   "source": []
  }
 ],
 "metadata": {
  "kernelspec": {
   "display_name": "Python 3",
   "language": "python",
   "name": "python3"
  },
  "language_info": {
   "codemirror_mode": {
    "name": "ipython",
    "version": 3
   },
   "file_extension": ".py",
   "mimetype": "text/x-python",
   "name": "python",
   "nbconvert_exporter": "python",
   "pygments_lexer": "ipython3",
   "version": "3.8.3"
  }
 },
 "nbformat": 4,
 "nbformat_minor": 4
}
